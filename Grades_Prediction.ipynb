{
 "cells": [
  {
   "cell_type": "code",
   "execution_count": 3,
   "metadata": {},
   "outputs": [
    {
     "name": "stdout",
     "output_type": "stream",
     "text": [
      "0.8120336243128398\n",
      "coefficient:\n",
      " [ 0.16533821  0.98307714 -0.20535344 -0.20607301  0.03552584]\n",
      "intercept:\n",
      " -1.6931219459013551\n",
      "13.663928223588096 [15 14  3  2  4] 15\n",
      "4.0167412091516255 [6 5 2 0 6] 6\n",
      "3.390720550938881 [6 5 1 3 0] 0\n",
      "8.137622815066837 [8 9 2 0 2] 10\n",
      "7.15454567656 [8 8 2 0 2] 8\n",
      "13.68663713878466 [12 14  3  0  7] 14\n",
      "5.665035988595656 [7 7 2 2 4] 9\n",
      "15.358791349580523 [16 15  2  0  2] 15\n",
      "4.257620490674783 [6 5 1 0 7] 6\n",
      "16.286420046981966 [16 16  4  0 12] 16\n",
      "12.961219667941203 [10 13  1  0 12] 12\n",
      "6.096555065864203 [ 6  7  2  1 15] 8\n",
      "11.08236484898843 [ 9 12  3  0  3] 11\n",
      "11.967816596107689 [15 12  3  0  0] 14\n",
      "12.849433182128342 [11 13  1  1 10] 13\n",
      "16.148806054600584 [15 16  3  0  7] 15\n",
      "10.03522309137446 [11 10  1  0  8] 10\n",
      "13.48046914569722 [14 13  1  0  8] 13\n",
      "5.729725200100845 [7 7 3 0 0] 8\n",
      "9.522428066431994 [10 10  2  0  4] 10\n",
      "8.539350927925154 [10  9  2  0  4] 11\n",
      "7.832678914436547 [10  8  1  0  6] 11\n",
      "14.250391223233601 [14 14  1  0  2] 14\n",
      "10.694078256826689 [12 11  2  0  0] 12\n",
      "18.539923283426347 [18 18  3  0  5] 19\n",
      "10.20836292725092 [12 10  2  0 14] 11\n",
      "10.734093481920688 [11 11  1  0  0] 10\n",
      "6.3709884283555525 [7 8 2 3 2] 9\n",
      "12.565946007896438 [11 13  2  0  2] 14\n",
      "13.069762269641059 [14 13  3  0  8] 14\n",
      "12.085965557405512 [14 12  2  1  8] 12\n",
      "14.997078461816203 [13 15  1  0  0] 15\n",
      "5.875673430494076 [ 7  6  2  0 26] 6\n",
      "12.828068433058544 [16 12  1  0  8] 13\n",
      "8.472883603864574 [ 7 10  3  1  0] 10\n",
      "5.482197815792642 [8 7 2 3 0] 0\n",
      "5.042426240367211 [ 6  6  2  1 13] 8\n",
      "15.67852394103621 [16 15  2  0 11] 15\n",
      "7.974782288416854 [10  8  1  0 10] 9\n",
      "20.111336515464735 [18 19  1  0 10] 19\n"
     ]
    }
   ],
   "source": [
    "import pandas as pd\n",
    "import numpy as np\n",
    "import sklearn\n",
    "from sklearn import linear_model\n",
    "from sklearn.utils import shuffle\n",
    "\n",
    "data=pd.read_csv(\"Downloads/student/student-mat.csv\",sep=\";\")\n",
    "data=data[[\"G1\",\"G2\",\"G3\",\"studytime\",\"failures\", \"absences\"]]\n",
    "predict=\"G3\"\n",
    "x=np.array(data.drop([predict],1))\n",
    "y=np.array(data[predict])\n",
    "x_train,x_test,y_train,y_test=sklearn.model_selection.train_test_split(x,y,test_size=0.1)\n",
    "linear=linear_model.LinearRegression()\n",
    "linear.fit(x_train,y_train)\n",
    "acc=linear.score(x_test,y_test)\n",
    "print(acc)\n",
    "print (\"coefficient:\\n\", linear.coef_)\n",
    "print(\"intercept:\\n\", linear.intercept_)\n",
    "predictions=linear.predict(x_test)\n",
    "\n",
    "for x in range (len(predictions)):\n",
    "    print(predictions[x], x_test[x], y_test[x])\n"
   ]
  },
  {
   "cell_type": "code",
   "execution_count": null,
   "metadata": {},
   "outputs": [],
   "source": []
  },
  {
   "cell_type": "code",
   "execution_count": null,
   "metadata": {},
   "outputs": [],
   "source": []
  }
 ],
 "metadata": {
  "kernelspec": {
   "display_name": "Python 3",
   "language": "python",
   "name": "python3"
  },
  "language_info": {
   "codemirror_mode": {
    "name": "ipython",
    "version": 3
   },
   "file_extension": ".py",
   "mimetype": "text/x-python",
   "name": "python",
   "nbconvert_exporter": "python",
   "pygments_lexer": "ipython3",
   "version": "3.7.4"
  }
 },
 "nbformat": 4,
 "nbformat_minor": 2
}
